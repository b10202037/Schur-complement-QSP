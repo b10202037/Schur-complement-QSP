{
 "cells": [
  {
   "cell_type": "code",
   "execution_count": 3,
   "metadata": {},
   "outputs": [
    {
     "name": "stdout",
     "output_type": "stream",
     "text": [
      "總維度 d: 58956\n",
      "所需 RAM: 26518.33 MB (25.90 GB)\n"
     ]
    }
   ],
   "source": [
    "from math import comb\n",
    "\n",
    "def calculate_ram(n, m, k):\n",
    "    # 計算 d_{n,m,k-1}, d_{n,m,k}, d_{n,m,k+1}\n",
    "    d_k_minus_1 = comb(2 * n * m, k - 1) if k - 1 >= 0 else 0\n",
    "    d_k = comb(2 * n * m, k)\n",
    "    d_k_plus_1 = comb(2 * n * m, k + 1) if k + 1 <= 2 * n * m else 0\n",
    "\n",
    "    # 總維度\n",
    "    d = d_k_minus_1 + d_k + d_k_plus_1\n",
    "\n",
    "    # 計算矩陣的記憶體需求\n",
    "    ram_bytes = d**2 * 8\n",
    "    ram_mb = ram_bytes / (1024**2)  # 轉換為 MB\n",
    "    ram_gb = ram_mb / 1024          # 轉換為 GB\n",
    "\n",
    "    return d, ram_mb, ram_gb\n",
    "\n",
    "# 範例輸入\n",
    "n, m, k = 3, 3, 9  # 3x3 格點，填 9 顆電子\n",
    "d, ram_mb, ram_gb = calculate_ram(n, m, k)\n",
    "print(f\"總維度 d: {d}\")\n",
    "print(f\"所需 RAM: {ram_mb:.2f} MB ({ram_gb:.2f} GB)\")\n"
   ]
  }
 ],
 "metadata": {
  "kernelspec": {
   "display_name": "OpenFermion",
   "language": "python",
   "name": "python3"
  },
  "language_info": {
   "codemirror_mode": {
    "name": "ipython",
    "version": 3
   },
   "file_extension": ".py",
   "mimetype": "text/x-python",
   "name": "python",
   "nbconvert_exporter": "python",
   "pygments_lexer": "ipython3",
   "version": "3.11.9"
  }
 },
 "nbformat": 4,
 "nbformat_minor": 2
}
